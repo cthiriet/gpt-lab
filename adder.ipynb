{
 "cells": [
  {
   "cell_type": "markdown",
   "metadata": {},
   "source": [
    "# GPT adder"
   ]
  },
  {
   "cell_type": "markdown",
   "metadata": {},
   "source": [
    "This repo was inspired by karpathy's suggested exercice in his video [Let's build GPT: from scratch, in code, spelled out.](https://youtu.be/kCc8FmEb1nY?feature=shared)"
   ]
  },
  {
   "cell_type": "code",
   "execution_count": null,
   "metadata": {},
   "outputs": [],
   "source": [
    "import random\n",
    "import torch\n",
    "import torch.nn as nn\n",
    "from torch.nn import functional as F\n",
    "import matplotlib.pyplot as plt\n",
    "import numpy as np\n",
    "from tqdm import tqdm\n",
    "import pandas as pd\n",
    "from gpt.model import GPT, GPTConfig, TrainingConfig, Trainer"
   ]
  },
  {
   "cell_type": "markdown",
   "metadata": {},
   "source": [
    "## generate samples"
   ]
  },
  {
   "cell_type": "markdown",
   "metadata": {},
   "source": [
    "The following function will generate random samples for training the GPT adder.\n",
    "\n",
    "It generates the digits of the answer in reverse order, as the typical addition algorithm would proceed right to left too.\n",
    "\n",
    "i.e. `79+11=09` because `79+11=90`\n",
    "\n",
    "If `DataConfig.chain_of_thought` is `True`, the answer will be broken down into atomic additions, with the carry in brackets.\n",
    "\n",
    "i.e. `55+96;5+6=11(1);5+9+1=15;151` because to compute 55+96 you do, in this order:\n",
    "\n",
    "- 5 + 6 = 11 carry 1\n",
    "- 5 + 9 + _carry_ = 5 + 9 + 1 = 15\n",
    "- result is 151"
   ]
  },
  {
   "cell_type": "code",
   "execution_count": 2,
   "metadata": {},
   "outputs": [],
   "source": [
    "from dataclasses import dataclass\n",
    "\n",
    "@dataclass\n",
    "class DataConfig:\n",
    "    train_low: int = 0\n",
    "    train_high: int = 1000\n",
    "    test_low: int = 0\n",
    "    test_high: int = 1000\n",
    "    chain_of_thought: bool = True\n",
    "\n",
    "data_config = DataConfig()"
   ]
  },
  {
   "cell_type": "code",
   "execution_count": 4,
   "metadata": {},
   "outputs": [
    {
     "data": {
      "text/plain": [
       "('424+699;4+9=13(1);2+9+1=12(1);4+6+1=11;1123', 7)"
      ]
     },
     "execution_count": 4,
     "metadata": {},
     "output_type": "execute_result"
    }
   ],
   "source": [
    "def generate_sample(low, high, detailed=data_config.chain_of_thought):\n",
    "    a = random.randint(low, high)\n",
    "    b = random.randint(low, high)\n",
    "\n",
    "    if not detailed:\n",
    "        sample = f\"{a}+{b}=\"\n",
    "        prompt_end_idx = len(sample) - 1\n",
    "        res = a + b\n",
    "\n",
    "        # add in reverse order\n",
    "        sample += str(res)[::-1]\n",
    "\n",
    "        return sample, prompt_end_idx\n",
    "    \n",
    "    sample = f\"{a}+{b};\"\n",
    "\n",
    "    # give the index of the last character of the prompt (useful for ignore_index of cross entropy loss, see later...)\n",
    "    prompt_end_idx = len(sample) - 1\n",
    "\n",
    "    array_of_numbers_a = [int(x) for x in str(a)]\n",
    "    array_of_numbers_b = [int(x) for x in str(b)]\n",
    "\n",
    "    carry = 0\n",
    "\n",
    "    while len(array_of_numbers_a) and len(array_of_numbers_b):\n",
    "        prefix_carry = f\"+{carry}\" if carry else \"\"\n",
    "\n",
    "        d1 = array_of_numbers_a.pop()\n",
    "        d2 = array_of_numbers_b.pop()\n",
    "\n",
    "        res = d1 + d2 + carry\n",
    "\n",
    "        carry = res//10\n",
    "\n",
    "        if len(array_of_numbers_a) == 0 and len(array_of_numbers_b) == 0:\n",
    "            sample += f\"{d1}+{d2}{prefix_carry}={res};\"\n",
    "        else:\n",
    "            sample += f\"{d1}+{d2}{prefix_carry}={res}({carry});\"\n",
    "\n",
    "    while len(array_of_numbers_a):\n",
    "        d1 = array_of_numbers_a.pop()\n",
    "        d2 = carry\n",
    "        res = d1 + d2\n",
    "        carry = res//10\n",
    "        if len(array_of_numbers_a) > 0:\n",
    "            sample += f\"{d1}+{d2}={res}({carry});\"\n",
    "        else:\n",
    "            sample += f\"{d1}+{d2}={res};\"\n",
    "\n",
    "    while len(array_of_numbers_b):\n",
    "        d1 = array_of_numbers_b.pop()\n",
    "        d2 = carry\n",
    "        res = d1 + d2\n",
    "        carry = res//10\n",
    "        if len(array_of_numbers_b) > 0:\n",
    "            sample += f\"{d1}+{d2}={res}({carry});\"\n",
    "        else:\n",
    "            sample += f\"{d1}+{d2}={res};\"\n",
    "\n",
    "    sample += f\"{a+b}\"\n",
    "\n",
    "    return sample, prompt_end_idx\n",
    "\n",
    "# get a sample from the training set\n",
    "sample, prompt_idx = generate_sample(low=data_config.train_low, high=data_config.train_high)\n",
    "sample, prompt_idx"
   ]
  },
  {
   "cell_type": "code",
   "execution_count": 5,
   "metadata": {},
   "outputs": [
    {
     "data": {
      "text/plain": [
       "('101+456;1+6=7(0);0+5=5(0);1+4=5;557', 7)"
      ]
     },
     "execution_count": 5,
     "metadata": {},
     "output_type": "execute_result"
    }
   ],
   "source": [
    "# get a sample from the test set\n",
    "sample, prompt_idx = generate_sample(low=data_config.test_low, high=data_config.test_high)\n",
    "sample, prompt_idx"
   ]
  },
  {
   "cell_type": "code",
   "execution_count": 6,
   "metadata": {},
   "outputs": [
    {
     "data": {
      "text/plain": [
       "'101+456;'"
      ]
     },
     "execution_count": 6,
     "metadata": {},
     "output_type": "execute_result"
    }
   ],
   "source": [
    "def extract_prompt_from_sample(sample, prompt_idx):\n",
    "    \"\"\"extract only the prompt from a full addition sample\"\"\"\n",
    "    return sample[:prompt_idx+1]\n",
    "\n",
    "extract_prompt_from_sample(sample, prompt_idx)"
   ]
  },
  {
   "cell_type": "code",
   "execution_count": 7,
   "metadata": {},
   "outputs": [
    {
     "data": {
      "text/plain": [
       "True"
      ]
     },
     "execution_count": 7,
     "metadata": {},
     "output_type": "execute_result"
    }
   ],
   "source": [
    "def correct_answer(sample, model_output, only_result=False):\n",
    "    \"\"\"check if the model calculated the correct answer by comparing against the ground truth\"\"\"\n",
    "    if only_result:\n",
    "        response = f\";{sample.split(';')[-1]}<|endoftext|>\"\n",
    "        return response in model_output\n",
    "    else:\n",
    "        return model_output == (sample + \"<|endoftext|>\")\n",
    "\n",
    "correct_answer(sample, sample + \"<|endoftext|>\", only_result=True)"
   ]
  },
  {
   "cell_type": "markdown",
   "metadata": {},
   "source": [
    "## build the vocab"
   ]
  },
  {
   "cell_type": "code",
   "execution_count": 8,
   "metadata": {},
   "outputs": [
    {
     "data": {
      "text/plain": [
       "{'(',\n",
       " ')',\n",
       " '+',\n",
       " '0',\n",
       " '1',\n",
       " '2',\n",
       " '3',\n",
       " '4',\n",
       " '5',\n",
       " '6',\n",
       " '7',\n",
       " '8',\n",
       " '9',\n",
       " ';',\n",
       " '<|endoftext|>',\n",
       " '='}"
      ]
     },
     "execution_count": 8,
     "metadata": {},
     "output_type": "execute_result"
    }
   ],
   "source": [
    "tokens = set()\n",
    "for i in range(10):\n",
    "    tokens.add((str(i)))\n",
    "\n",
    "if data_config.chain_of_thought:\n",
    "    tokens.add(\"+\")\n",
    "    tokens.add(\"=\")\n",
    "    tokens.add(\";\")\n",
    "    tokens.add(\"(\")\n",
    "    tokens.add(\")\")\n",
    "else:\n",
    "    tokens.add(\"+\")\n",
    "    tokens.add(\"=\")\n",
    "tokens.add(\"<|endoftext|>\")\n",
    "tokens"
   ]
  },
  {
   "cell_type": "markdown",
   "metadata": {},
   "source": [
    "## create config"
   ]
  },
  {
   "cell_type": "code",
   "execution_count": 12,
   "metadata": {},
   "outputs": [
    {
     "data": {
      "text/plain": [
       "(GPTConfig(vocab_size=16, block_size=64, n_embd=128, n_head=4, n_layer=1, dropout=0.2, device='cpu', eos_token_id=-1),\n",
       " TrainingConfig(batch_size=32, max_iters=5000, eval_iters=100, eval_interval=1000, learning_rate=0.001, weight_decay=0.1))"
      ]
     },
     "execution_count": 12,
     "metadata": {},
     "output_type": "execute_result"
    }
   ],
   "source": [
    "model_config = GPTConfig(\n",
    "    vocab_size=len(tokens),\n",
    "    block_size=64,\n",
    "    n_embd=128,\n",
    "    n_head=4,\n",
    "    n_layer=1,\n",
    "    dropout=0.2\n",
    ")\n",
    "\n",
    "train_config = TrainingConfig(\n",
    "    batch_size=32,\n",
    "    max_iters=5000,\n",
    "    eval_iters=100,\n",
    "    eval_interval=1000,\n",
    "    learning_rate=1e-3,\n",
    "    weight_decay=1e-1\n",
    ")\n",
    "\n",
    "model_config, train_config"
   ]
  },
  {
   "cell_type": "markdown",
   "metadata": {},
   "source": [
    "## tokenizer"
   ]
  },
  {
   "cell_type": "code",
   "execution_count": 13,
   "metadata": {},
   "outputs": [],
   "source": [
    "stoi = { s:i for i,s in enumerate(tokens) }\n",
    "itos = { i:s for i,s in enumerate(tokens) }\n",
    "\n",
    "def encode(s):\n",
    "    return [stoi[ch] for ch in s]\n",
    "\n",
    "def decode(l):\n",
    "    return ''.join([itos[i] for i in l])"
   ]
  },
  {
   "cell_type": "code",
   "execution_count": 14,
   "metadata": {},
   "outputs": [
    {
     "data": {
      "text/plain": [
       "4"
      ]
     },
     "execution_count": 14,
     "metadata": {},
     "output_type": "execute_result"
    }
   ],
   "source": [
    "EOS_ID = stoi['<|endoftext|>']\n",
    "model_config.eos_token_id = EOS_ID\n",
    "EOS_ID"
   ]
  },
  {
   "cell_type": "markdown",
   "metadata": {},
   "source": [
    "## model definition"
   ]
  },
  {
   "cell_type": "code",
   "execution_count": 15,
   "metadata": {},
   "outputs": [
    {
     "name": "stdout",
     "output_type": "stream",
     "text": [
      "210448 parameters\n"
     ]
    }
   ],
   "source": [
    "model = GPT(config=model_config)\n",
    "\n",
    "# put the model on the device\n",
    "model.to(model_config.device)\n",
    "\n",
    "# print the number of parameters in the model\n",
    "print(sum(p.numel() for p in model.parameters()), 'parameters')"
   ]
  },
  {
   "cell_type": "markdown",
   "metadata": {},
   "source": [
    "## data loader and trainer"
   ]
  },
  {
   "cell_type": "markdown",
   "metadata": {},
   "source": [
    "The tokens that belongs to the prompt are converted into `-1` in the label vector, as the loss will not be calculated for these tokens (see `ignore_index` of the [cross entropy loss](https://pytorch.org/docs/stable/generated/torch.nn.functional.cross_entropy.html))."
   ]
  },
  {
   "cell_type": "code",
   "execution_count": 16,
   "metadata": {},
   "outputs": [
    {
     "data": {
      "text/plain": [
       "(torch.Size([32, 43]), torch.Size([32, 43]))"
      ]
     },
     "execution_count": 16,
     "metadata": {},
     "output_type": "execute_result"
    }
   ],
   "source": [
    "class AdderTrainer(Trainer):\n",
    "    def __init__(self, model, model_config, train_config):\n",
    "        super().__init__(model=model, model_config=model_config, train_config=train_config)\n",
    "\n",
    "    def get_batch(self, split: str = \"train\"):\n",
    "        X, Y = [], []\n",
    "        for k in range(self.train_config.batch_size):\n",
    "            sample, prompt_end_idx = generate_sample(low=data_config.train_low, high=data_config.train_high)\n",
    "            encoded_sample = torch.tensor(encode(sample))\n",
    "\n",
    "            # add EOS token\n",
    "            encoded_sample = torch.cat((encoded_sample, torch.tensor([EOS_ID])))\n",
    "\n",
    "            x = encoded_sample[:-1].clone()\n",
    "            y = encoded_sample[1:].clone()\n",
    "\n",
    "            y[:prompt_end_idx] = -1\n",
    "            X.append(x)\n",
    "            Y.append(y)\n",
    "\n",
    "        X = torch.nn.utils.rnn.pad_sequence(X, batch_first=True, padding_value=EOS_ID)\n",
    "        Y = torch.nn.utils.rnn.pad_sequence(Y, batch_first=True, padding_value=-1)\n",
    "            \n",
    "        X, Y = X.to(self.model_config.device), Y.to(self.model_config.device)\n",
    "        return X, Y\n",
    "\n",
    "    @torch.no_grad()\n",
    "    def estimate_loss(self):\n",
    "        out = {}\n",
    "        self.model.eval()\n",
    "        losses = torch.zeros(self.train_config.eval_iters)\n",
    "        for k in tqdm(range(self.train_config.eval_iters)):\n",
    "            X, Y = self.get_batch()\n",
    "            logits, loss = self.model(X, Y)\n",
    "            losses[k] = loss.item()\n",
    "        out[\"val\"] = losses.mean()\n",
    "        out[\"train\"] = losses.mean()\n",
    "        self.model.train()\n",
    "        return out\n",
    "\n",
    "trainer = AdderTrainer(model, model_config, train_config)\n",
    "\n",
    "x, y = trainer.get_batch()\n",
    "x.shape, y.shape"
   ]
  },
  {
   "cell_type": "code",
   "execution_count": 17,
   "metadata": {},
   "outputs": [
    {
     "name": "stdout",
     "output_type": "stream",
     "text": [
      "y=tensor([-1, -1, -1, -1, -1, -1, -1,  0,  9,  8, 13,  1, 14, 10,  1, 11,  3,  2,\n",
      "         9,  2,  9,  1, 13,  1, 10,  2, 11,  3,  1,  9,  5, 13,  6,  3,  6,  1,\n",
      "        14,  4, -1, -1, -1, -1, -1])\n",
      "x=tensor([ 1,  2,  0,  9,  5,  2,  8,  3,  0,  9,  8, 13,  1, 14, 10,  1, 11,  3,\n",
      "         2,  9,  2,  9,  1, 13,  1, 10,  2, 11,  3,  1,  9,  5, 13,  6,  3,  6,\n",
      "         1, 14,  4,  4,  4,  4,  4])\n",
      "y=6+8=14(1);0+0+1=1(0);1+2=3;314<|endoftext|>\n",
      "x=106+208;6+8=14(1);0+0+1=1(0);1+2=3;314<|endoftext|><|endoftext|><|endoftext|><|endoftext|><|endoftext|>\n"
     ]
    }
   ],
   "source": [
    "idx = 2\n",
    "print(f\"y={y[idx]}\")\n",
    "print(f\"x={x[idx]}\")\n",
    "\n",
    "without_ignore_index = y[idx].tolist()\n",
    "without_ignore_index = [i for i in without_ignore_index if i != -1]\n",
    "\n",
    "print(f\"y={decode(without_ignore_index)}\")\n",
    "print(f\"x={decode(x[idx].tolist())}\")"
   ]
  },
  {
   "cell_type": "code",
   "execution_count": 18,
   "metadata": {},
   "outputs": [
    {
     "name": "stdout",
     "output_type": "stream",
     "text": [
      "0.210448 M parameters\n"
     ]
    },
    {
     "name": "stderr",
     "output_type": "stream",
     "text": [
      "100%|██████████| 100/100 [00:00<00:00, 182.18it/s]\n",
      "training:   0%|          | 7/5000 [00:00<06:24, 12.97it/s]"
     ]
    },
    {
     "name": "stdout",
     "output_type": "stream",
     "text": [
      "step 0: train loss 2.8007, val loss 2.8007\n"
     ]
    },
    {
     "name": "stderr",
     "output_type": "stream",
     "text": [
      "100%|██████████| 100/100 [00:00<00:00, 187.16it/s]57.66it/s]\n",
      "training:  20%|██        | 1007/5000 [00:17<02:23, 27.89it/s]"
     ]
    },
    {
     "name": "stdout",
     "output_type": "stream",
     "text": [
      "step 1000: train loss 0.0157, val loss 0.0157\n"
     ]
    },
    {
     "name": "stderr",
     "output_type": "stream",
     "text": [
      "100%|██████████| 100/100 [00:00<00:00, 186.71it/s] 55.59it/s]\n",
      "training:  40%|████      | 2011/5000 [00:35<01:43, 28.94it/s]"
     ]
    },
    {
     "name": "stdout",
     "output_type": "stream",
     "text": [
      "step 2000: train loss 0.0083, val loss 0.0083\n"
     ]
    },
    {
     "name": "stderr",
     "output_type": "stream",
     "text": [
      "100%|██████████| 100/100 [00:00<00:00, 192.15it/s] 63.23it/s]\n",
      "training:  60%|██████    | 3008/5000 [00:52<01:03, 31.57it/s]"
     ]
    },
    {
     "name": "stdout",
     "output_type": "stream",
     "text": [
      "step 3000: train loss 0.0072, val loss 0.0072\n"
     ]
    },
    {
     "name": "stderr",
     "output_type": "stream",
     "text": [
      "100%|██████████| 100/100 [00:00<00:00, 194.52it/s] 63.36it/s]\n",
      "training:  80%|████████  | 4008/5000 [01:08<00:31, 31.87it/s]"
     ]
    },
    {
     "name": "stdout",
     "output_type": "stream",
     "text": [
      "step 4000: train loss 0.0041, val loss 0.0041\n"
     ]
    },
    {
     "name": "stderr",
     "output_type": "stream",
     "text": [
      "100%|██████████| 100/100 [00:00<00:00, 199.28it/s] 63.67it/s]\n",
      "training: 100%|██████████| 5000/5000 [01:25<00:00, 58.63it/s]"
     ]
    },
    {
     "name": "stdout",
     "output_type": "stream",
     "text": [
      "step 4999: train loss 0.0064, val loss 0.0064\n"
     ]
    },
    {
     "name": "stderr",
     "output_type": "stream",
     "text": [
      "\n"
     ]
    }
   ],
   "source": [
    "train_losses, val_losses = trainer.train()"
   ]
  },
  {
   "cell_type": "code",
   "execution_count": 19,
   "metadata": {},
   "outputs": [
    {
     "data": {
      "image/png": "[encoded data removed]",
      "text/plain": [
       "<Figure size 640x480 with 1 Axes>"
      ]
     },
     "metadata": {},
     "output_type": "display_data"
    }
   ],
   "source": [
    "plt.plot(val_losses)\n",
    "plt.xlabel(xlabel=\"Iteration\")\n",
    "plt.ylabel(ylabel=\"Loss\")\n",
    "plt.title(\"Validation Loss\")\n",
    "plt.show()"
   ]
  },
  {
   "cell_type": "code",
   "execution_count": 20,
   "metadata": {},
   "outputs": [],
   "source": [
    "def get_model_response(prompt):\n",
    "    context = torch.tensor(encode(prompt), device=model_config.device)\n",
    "    context = context.unsqueeze(0)\n",
    "\n",
    "    generated = model.generate(context, max_new_tokens=70)[0].tolist()\n",
    "    decoded = decode(generated)\n",
    "    return decoded"
   ]
  },
  {
   "cell_type": "code",
   "execution_count": 21,
   "metadata": {},
   "outputs": [
    {
     "data": {
      "text/plain": [
       "'6+9;9+9=133(0);9+0=9+1=17(1);6+1=7;770<|endoftext|>'"
      ]
     },
     "execution_count": 21,
     "metadata": {},
     "output_type": "execute_result"
    }
   ],
   "source": [
    "get_model_response(\"6+9;\")"
   ]
  },
  {
   "cell_type": "markdown",
   "metadata": {},
   "source": [
    "## evaluation"
   ]
  },
  {
   "cell_type": "code",
   "execution_count": 22,
   "metadata": {},
   "outputs": [],
   "source": [
    "def accuracy(model: GPT, num_to_run=1000, verbose=False):\n",
    "    score = 0\n",
    "\n",
    "    goods, wrongs = [], []\n",
    "\n",
    "    for _ in tqdm(range(num_to_run)):\n",
    "        result = {}\n",
    "\n",
    "        sample, prompt_idx = generate_sample(low=data_config.test_low, high=data_config.test_high)\n",
    "\n",
    "        prompt = extract_prompt_from_sample(sample, prompt_idx)\n",
    "\n",
    "        result['prompt'] = prompt\n",
    "\n",
    "        # generate from the model\n",
    "        context = torch.tensor(encode(prompt), device=model_config.device)\n",
    "        context = context.unsqueeze(0)\n",
    "\n",
    "        generated = model.generate(context, max_new_tokens=70)[0].tolist()\n",
    "        decoded = decode(generated)\n",
    "\n",
    "        if verbose:\n",
    "            print(f\"prompt: {prompt}\")\n",
    "            print(f\"decoded: {decoded}\")\n",
    "            print(f\"sample: {sample}\")\n",
    "            print(f\"correct: {correct_answer(sample, decoded)}\")\n",
    "            print()\n",
    "\n",
    "        result['decoded'] = decoded\n",
    "\n",
    "        correct = correct_answer(sample, decoded)\n",
    "\n",
    "        result['correct'] = correct\n",
    "\n",
    "        if correct:\n",
    "            score += 1\n",
    "            goods.append(result)\n",
    "        else:\n",
    "            wrongs.append(result)\n",
    "\n",
    "    return score / num_to_run, goods, wrongs"
   ]
  },
  {
   "cell_type": "code",
   "execution_count": 23,
   "metadata": {},
   "outputs": [
    {
     "name": "stderr",
     "output_type": "stream",
     "text": [
      "100%|██████████| 1000/1000 [00:24<00:00, 40.88it/s]"
     ]
    },
    {
     "name": "stdout",
     "output_type": "stream",
     "text": [
      "Accuracy: 80.60000000000001%\n"
     ]
    },
    {
     "name": "stderr",
     "output_type": "stream",
     "text": [
      "\n"
     ]
    }
   ],
   "source": [
    "score, goods, wrongs = accuracy(model, num_to_run=1000, verbose=False)\n",
    "print(f\"Accuracy: {score*100}%\")"
   ]
  },
  {
   "cell_type": "code",
   "execution_count": 24,
   "metadata": {},
   "outputs": [
    {
     "name": "stdout",
     "output_type": "stream",
     "text": [
      "806\n",
      "[\n",
      "  {\n",
      "    \"prompt\": \"946+331;\",\n",
      "    \"decoded\": \"946+331;6+1=7(0);4+3=7(0);9+3=12;1277<|endoftext|>\",\n",
      "    \"correct\": true\n",
      "  },\n",
      "  {\n",
      "    \"prompt\": \"972+161;\",\n",
      "    \"decoded\": \"972+161;2+1=3(0);7+6=13(1);9+1+1=11;1133<|endoftext|>\",\n",
      "    \"correct\": true\n",
      "  },\n",
      "  {\n",
      "    \"prompt\": \"574+588;\",\n",
      "    \"decoded\": \"574+588;4+8=12(1);7+8+1=16(1);5+5+1=11;1162<|endoftext|>\",\n",
      "    \"correct\": true\n",
      "  },\n",
      "  {\n",
      "    \"prompt\": \"414+480;\",\n",
      "    \"decoded\": \"414+480;4+0=4(0);1+8=9(0);4+4=8;894<|endoftext|>\",\n",
      "    \"correct\": true\n",
      "  },\n",
      "  {\n",
      "    \"prompt\": \"120+552;\",\n",
      "    \"decoded\": \"120+552;0+2=2(0);2+5=7(0);1+5=6;672<|endoftext|>\",\n",
      "    \"correct\": true\n",
      "  },\n",
      "  {\n",
      "    \"prompt\": \"188+835;\",\n",
      "    \"decoded\": \"188+835;8+5=13(1);8+3+1=12(1);1+8+1=10;1023<|endoftext|>\",\n",
      "    \"correct\": true\n",
      "  },\n",
      "  {\n",
      "    \"prompt\": \"407+421;\",\n",
      "    \"decoded\": \"407+421;7+1=8(0);0+2=2(0);4+4=8;828<|endoftext|>\",\n",
      "    \"correct\": true\n",
      "  },\n",
      "  {\n",
      "    \"prompt\": \"713+487;\",\n",
      "    \"decoded\": \"713+487;3+7=10(1);1+8+1=10(1);7+4+1=12;1200<|endoftext|>\",\n",
      "    \"correct\": true\n",
      "  },\n",
      "  {\n",
      "    \"prompt\": \"722+82;\",\n",
      "    \"decoded\": \"722+82;2+2=4(0);2+8=10(1);7+1=8;804<|endoftext|>\",\n",
      "    \"correct\": true\n",
      "  },\n",
      "  {\n",
      "    \"prompt\": \"423+87;\",\n",
      "    \"decoded\": \"423+87;3+7=10(1);2+8+1=11(1);4+1=5;510<|endoftext|>\",\n",
      "    \"correct\": true\n",
      "  }\n",
      "]\n"
     ]
    }
   ],
   "source": [
    "import json\n",
    "print(len(goods))\n",
    "print(json.dumps(goods[:10], indent=2))"
   ]
  },
  {
   "cell_type": "code",
   "execution_count": 25,
   "metadata": {},
   "outputs": [
    {
     "name": "stdout",
     "output_type": "stream",
     "text": [
      "194\n",
      "[\n",
      "  {\n",
      "    \"prompt\": \"66+826;\",\n",
      "    \"decoded\": \"66+826;6+6=12(1);8+2+1=11(1);8+1=9;912<|endoftext|>\",\n",
      "    \"correct\": false\n",
      "  },\n",
      "  {\n",
      "    \"prompt\": \"476+977;\",\n",
      "    \"decoded\": \"476+977;6+7=13(1);7+7+1=15(1);4+9+1=10;1053<|endoftext|>\",\n",
      "    \"correct\": false\n",
      "  },\n",
      "  {\n",
      "    \"prompt\": \"198+71;\",\n",
      "    \"decoded\": \"198+71;8+1=9(0);9+7=10(1);1+1=2;209<|endoftext|>\",\n",
      "    \"correct\": false\n",
      "  },\n",
      "  {\n",
      "    \"prompt\": \"76+291;\",\n",
      "    \"decoded\": \"76+291;6+1=7(0);2+9=11(1);2+1=3;317<|endoftext|>\",\n",
      "    \"correct\": false\n",
      "  },\n",
      "  {\n",
      "    \"prompt\": \"532+655;\",\n",
      "    \"decoded\": \"532+655;2+5=10(1);3+5+1=9(0);5+6=11;1190<|endoftext|>\",\n",
      "    \"correct\": false\n",
      "  },\n",
      "  {\n",
      "    \"prompt\": \"565+20;\",\n",
      "    \"decoded\": \"565+20;5+0=5(0);6+2=8(0);7+0=7;785<|endoftext|>\",\n",
      "    \"correct\": false\n",
      "  },\n",
      "  {\n",
      "    \"prompt\": \"80+46;\",\n",
      "    \"decoded\": \"80+46;0+6=1(0);8+4=12;121);4+2+222;212<|endoftext|>\",\n",
      "    \"correct\": false\n",
      "  },\n",
      "  {\n",
      "    \"prompt\": \"487+607;\",\n",
      "    \"decoded\": \"487+607;7+7=14(1);8+0+1=8(0);4+6=10;1084<|endoftext|>\",\n",
      "    \"correct\": false\n",
      "  },\n",
      "  {\n",
      "    \"prompt\": \"8+959;\",\n",
      "    \"decoded\": \"8+959;8+9=17(1);5+1=6(0);5+0=5;567<|endoftext|>\",\n",
      "    \"correct\": false\n",
      "  },\n",
      "  {\n",
      "    \"prompt\": \"63+56;\",\n",
      "    \"decoded\": \"63+56;3+6=9(0);6+3=9;29<|endoftext|>\",\n",
      "    \"correct\": false\n",
      "  }\n",
      "]\n"
     ]
    }
   ],
   "source": [
    "print(len(wrongs))\n",
    "print(json.dumps(wrongs[:10], indent=2))"
   ]
  },
  {
   "cell_type": "code",
   "execution_count": null,
   "metadata": {},
   "outputs": [],
   "source": []
  }
 ],
 "metadata": {
  "kernelspec": {
   "display_name": "base",
   "language": "python",
   "name": "python3"
  },
  "language_info": {
   "codemirror_mode": {
    "name": "ipython",
    "version": 3
   },
   "file_extension": ".py",
   "mimetype": "text/x-python",
   "name": "python",
   "nbconvert_exporter": "python",
   "pygments_lexer": "ipython3",
   "version": "3.12.4"
  },
  "orig_nbformat": 4
 },
 "nbformat": 4,
 "nbformat_minor": 2
}
