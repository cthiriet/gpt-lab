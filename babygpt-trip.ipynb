{
 "cells": [
  {
   "attachments": {},
   "cell_type": "markdown",
   "metadata": {},
   "source": [
    "# baby GPT on a trip"
   ]
  },
  {
   "attachments": {},
   "cell_type": "markdown",
   "metadata": {},
   "source": [
    "The goal of this notebook is to train a baby GPT model to predict the country of a given capital city.\n",
    "\n",
    "The sentences of the dataset will have the following format: `<city> is the capital of <country>`.\n",
    "\n",
    "The original codebase for the GPT model is from Andrej Karpathy [ng-video-lecture](https://github.com/karpathy/ng-video-lecture).\n",
    "\n",
    "I edited this codebase so the GPT `Head` can return the attention weights."
   ]
  },
  {
   "cell_type": "code",
   "execution_count": 1,
   "metadata": {},
   "outputs": [],
   "source": [
    "import torch\n",
    "import torch.nn as nn\n",
    "from torch.nn import functional as F\n",
    "import matplotlib.pyplot as plt\n",
    "import numpy as np\n",
    "\n",
    "# hyperparameters\n",
    "batch_size = 4  # how many independent sequences will we process in parallel?\n",
    "block_size = 7  # what is the maximum context length for predictions?\n",
    "max_iters = 2000\n",
    "eval_interval = 100\n",
    "learning_rate = 1e-3\n",
    "weight_decay = 1e-1\n",
    "device = 'cuda' if torch.cuda.is_available() else 'cpu'\n",
    "eval_iters = 200\n",
    "n_embd = 16\n",
    "n_head = 4\n",
    "n_layer = 2\n",
    "dropout = 0.2"
   ]
  },
  {
   "attachments": {},
   "cell_type": "markdown",
   "metadata": {},
   "source": [
    "### reading the dataset"
   ]
  },
  {
   "cell_type": "code",
   "execution_count": 2,
   "metadata": {},
   "outputs": [
    {
     "data": {
      "text/plain": [
       "True"
      ]
     },
     "execution_count": 2,
     "metadata": {},
     "output_type": "execute_result"
    }
   ],
   "source": [
    "with open('data/cities.txt', 'r', encoding='utf-8') as f:\n",
    "    text = f.read()\n",
    "    text = text.lower()\n",
    "\n",
    "lines = text.splitlines()\n",
    "\n",
    "# check that the max line length is less than the block size\n",
    "max(len(line.split()) for line in lines) <= block_size"
   ]
  },
  {
   "cell_type": "code",
   "execution_count": 3,
   "metadata": {},
   "outputs": [
    {
     "data": {
      "text/plain": [
       "'london is the capital of england rome is the capital of italy berlin is the capital of germany tokyo is the capital of japan beijing is the capital of china new delhi is the capital of india paris is the capital of france '"
      ]
     },
     "execution_count": 3,
     "metadata": {},
     "output_type": "execute_result"
    }
   ],
   "source": [
    "dataset = \"\"\n",
    "for line in lines:\n",
    "    dataset += line + \" \"\n",
    "dataset"
   ]
  },
  {
   "cell_type": "code",
   "execution_count": 4,
   "metadata": {},
   "outputs": [
    {
     "data": {
      "text/plain": [
       "{'beijing',\n",
       " 'berlin',\n",
       " 'capital',\n",
       " 'china',\n",
       " 'delhi',\n",
       " 'england',\n",
       " 'france',\n",
       " 'germany',\n",
       " 'india',\n",
       " 'is',\n",
       " 'italy',\n",
       " 'japan',\n",
       " 'london',\n",
       " 'new',\n",
       " 'of',\n",
       " 'paris',\n",
       " 'rome',\n",
       " 'the',\n",
       " 'tokyo'}"
      ]
     },
     "execution_count": 4,
     "metadata": {},
     "output_type": "execute_result"
    }
   ],
   "source": [
    "# get the set of tokens in the dataset\n",
    "tokens = set(dataset.split())\n",
    "tokens"
   ]
  },
  {
   "cell_type": "code",
   "execution_count": 5,
   "metadata": {},
   "outputs": [
    {
     "data": {
      "text/plain": [
       "{'<eos>',\n",
       " '<pad>',\n",
       " 'beijing',\n",
       " 'berlin',\n",
       " 'capital',\n",
       " 'china',\n",
       " 'delhi',\n",
       " 'england',\n",
       " 'france',\n",
       " 'germany',\n",
       " 'india',\n",
       " 'is',\n",
       " 'italy',\n",
       " 'japan',\n",
       " 'london',\n",
       " 'new',\n",
       " 'of',\n",
       " 'paris',\n",
       " 'rome',\n",
       " 'the',\n",
       " 'tokyo'}"
      ]
     },
     "execution_count": 5,
     "metadata": {},
     "output_type": "execute_result"
    }
   ],
   "source": [
    "tokens.add('<eos>') # special end of sequence token\n",
    "tokens.add('<pad>') # special padding token\n",
    "tokens"
   ]
  },
  {
   "cell_type": "code",
   "execution_count": 6,
   "metadata": {},
   "outputs": [
    {
     "data": {
      "text/plain": [
       "21"
      ]
     },
     "execution_count": 6,
     "metadata": {},
     "output_type": "execute_result"
    }
   ],
   "source": [
    "len(tokens)"
   ]
  },
  {
   "cell_type": "code",
   "execution_count": 7,
   "metadata": {},
   "outputs": [
    {
     "data": {
      "text/plain": [
       "(15, 0)"
      ]
     },
     "execution_count": 7,
     "metadata": {},
     "output_type": "execute_result"
    }
   ],
   "source": [
    "stoi = { s:i for i,s in enumerate(tokens) }\n",
    "itos = { i:s for i,s in enumerate(tokens) }\n",
    "encode = lambda s: [stoi[w] for w in s.lower().split()]\n",
    "decode = lambda ids: ' '.join(itos[i] for i in ids)\n",
    "\n",
    "eos_id, pad_id = stoi['<eos>'], stoi['<pad>']\n",
    "eos_id, pad_id"
   ]
  },
  {
   "cell_type": "code",
   "execution_count": 8,
   "metadata": {},
   "outputs": [
    {
     "data": {
      "text/plain": [
       "21"
      ]
     },
     "execution_count": 8,
     "metadata": {},
     "output_type": "execute_result"
    }
   ],
   "source": [
    "vocab_size = len(stoi)\n",
    "vocab_size"
   ]
  },
  {
   "attachments": {},
   "cell_type": "markdown",
   "metadata": {},
   "source": [
    "### build the dataset"
   ]
  },
  {
   "cell_type": "code",
   "execution_count": 9,
   "metadata": {},
   "outputs": [
    {
     "name": "stdout",
     "output_type": "stream",
     "text": [
      "torch.Size([7, 7]) torch.Size([7, 7])\n",
      "\n",
      "x=tensor([12,  4, 13,  7,  3, 14, 15])\n",
      "y=tensor([ 4, 13,  7,  3, 14, 15,  0])\n",
      "\n",
      "when input is tensor([12]) the target: 4 --> london => is\n",
      "when input is tensor([12,  4]) the target: 13 --> london is => the\n",
      "when input is tensor([12,  4, 13]) the target: 7 --> london is the => capital\n",
      "when input is tensor([12,  4, 13,  7]) the target: 3 --> london is the capital => of\n",
      "when input is tensor([12,  4, 13,  7,  3]) the target: 14 --> london is the capital of => england\n",
      "when input is tensor([12,  4, 13,  7,  3, 14]) the target: 15 --> london is the capital of england => <eos>\n",
      "when input is tensor([12,  4, 13,  7,  3, 14, 15]) the target: 0 --> london is the capital of england <eos> => <pad>\n"
     ]
    }
   ],
   "source": [
    "X = []\n",
    "Y = []\n",
    "\n",
    "for line in lines:\n",
    "    enc = encode(line)\n",
    "    enc = enc + [eos_id] + [pad_id] * (block_size - len(enc))\n",
    "    # print(decode(enc), len(enc))\n",
    "    X.append(enc[:-1])\n",
    "    Y.append(enc[1:])\n",
    "\n",
    "    # print(decode(enc[:-1]))\n",
    "    # print(decode(enc[1:]))\n",
    "\n",
    "X = torch.tensor(X, dtype=torch.long, device=device)\n",
    "Y = torch.tensor(Y, dtype=torch.long, device=device)\n",
    "print(X.shape, Y.shape)\n",
    "print()\n",
    "\n",
    "for x, y in zip(X, Y):\n",
    "    print(f'{x=}')\n",
    "    print(f'{y=}')\n",
    "\n",
    "    print()\n",
    "\n",
    "    for t in range(block_size):\n",
    "        context = x[:t+1]\n",
    "        target = y[t]\n",
    "        print(f\"when input is {context} the target: {target} --> {decode(context.numpy())} => {decode(target.unsqueeze(0).numpy())}\")\n",
    "    break"
   ]
  },
  {
   "attachments": {},
   "cell_type": "markdown",
   "metadata": {},
   "source": [
    "### build the GPT"
   ]
  },
  {
   "cell_type": "code",
   "execution_count": 10,
   "metadata": {},
   "outputs": [],
   "source": [
    "class Head(nn.Module):\n",
    "    \"\"\" one head of self-attention \"\"\"\n",
    "\n",
    "    def __init__(self, head_size):\n",
    "        super().__init__()\n",
    "        self.key = nn.Linear(n_embd, head_size, bias=False)\n",
    "        self.query = nn.Linear(n_embd, head_size, bias=False)\n",
    "        self.value = nn.Linear(n_embd, head_size, bias=False)\n",
    "        self.register_buffer('tril', torch.tril(torch.ones(block_size, block_size)))\n",
    "\n",
    "        self.dropout = nn.Dropout(dropout)\n",
    "\n",
    "    def forward(self, x):\n",
    "        # input of size (batch, time-step, channels)\n",
    "        # output of size (batch, time-step, head size)\n",
    "        B,T,C = x.shape\n",
    "        k = self.key(x)   # (B,T,hs)\n",
    "        q = self.query(x) # (B,T,hs)\n",
    "        # compute attention scores (\"affinities\")\n",
    "        wei = q @ k.transpose(-2,-1) * k.shape[-1]**-0.5 # (B, T, hs) @ (B, hs, T) -> (B, T, T)\n",
    "        wei = wei.masked_fill(self.tril[:T, :T] == 0, float('-inf')) # (B, T, T)\n",
    "        wei = F.softmax(wei, dim=-1) # (B, T, T)\n",
    "\n",
    "        att_wei = wei.clone()\n",
    "\n",
    "        wei = self.dropout(wei)\n",
    "        # perform the weighted aggregation of the values\n",
    "        v = self.value(x) # (B,T,hs)\n",
    "        out = wei @ v # (B, T, T) @ (B, T, hs) -> (B, T, hs)\n",
    "        return out, att_wei\n",
    "    \n",
    "\n",
    "class MultiHeadAttention(nn.Module):\n",
    "    \"\"\" multiple heads of self-attention in parallel \"\"\"\n",
    "\n",
    "    def __init__(self, num_heads, head_size):\n",
    "        super().__init__()\n",
    "        self.heads = nn.ModuleList([Head(head_size) for _ in range(num_heads)])\n",
    "        self.proj = nn.Linear(head_size * num_heads, n_embd)\n",
    "        self.dropout = nn.Dropout(dropout)\n",
    "\n",
    "    def forward(self, x):\n",
    "        out, att_wei = zip(*[h(x) for h in self.heads])\n",
    "        out = torch.cat(out, dim=-1)\n",
    "        out = self.dropout(self.proj(out))\n",
    "        return out, att_wei\n",
    "    \n",
    "\n",
    "class FeedForward(nn.Module):\n",
    "    \"\"\" a simple linear layer followed by a non-linearity \"\"\"\n",
    "\n",
    "    def __init__(self, n_embd):\n",
    "        super().__init__()\n",
    "        self.net = nn.Sequential(\n",
    "            nn.Linear(n_embd, 4 * n_embd),\n",
    "            nn.ReLU(),\n",
    "            nn.Linear(4 * n_embd, n_embd),\n",
    "            nn.Dropout(dropout),\n",
    "        )\n",
    "\n",
    "    def forward(self, x):\n",
    "        return self.net(x)\n",
    "    \n",
    "\n",
    "class Block(nn.Module):\n",
    "    \"\"\" Transformer block: communication followed by computation \"\"\"\n",
    "\n",
    "    def __init__(self, n_embd, n_head):\n",
    "        # n_embd: embedding dimension, n_head: the number of heads we'd like\n",
    "        super().__init__()\n",
    "        head_size = n_embd // n_head\n",
    "        self.sa = MultiHeadAttention(n_head, head_size)\n",
    "        self.ffwd = FeedForward(n_embd)\n",
    "        self.ln1 = nn.LayerNorm(n_embd)\n",
    "        self.ln2 = nn.LayerNorm(n_embd)\n",
    "\n",
    "    def forward(self, x):\n",
    "        att, att_wei = self.sa(self.ln1(x))\n",
    "        x = x + att\n",
    "        x = x + self.ffwd(self.ln2(x))\n",
    "        return x, att_wei\n",
    "    \n",
    "    \n",
    "class GPTLanguageModel(nn.Module):\n",
    "\n",
    "    def __init__(self):\n",
    "        super().__init__()\n",
    "        # each token directly reads off the logits for the next token from a lookup table\n",
    "        self.token_embedding_table = nn.Embedding(vocab_size, n_embd)\n",
    "        self.position_embedding_table = nn.Embedding(block_size, n_embd)\n",
    "\n",
    "        # define blocks as a ModuleList instead of a Sequential\n",
    "        # so that we can access the attention weights\n",
    "        self.blocks = nn.ModuleList([Block(n_embd, n_head=n_head) for _ in range(n_layer)])\n",
    "\n",
    "        self.ln_f = nn.LayerNorm(n_embd) # final layer norm\n",
    "        self.lm_head = nn.Linear(n_embd, vocab_size)\n",
    "\n",
    "        # better init, not covered in the original GPT video, but important, will cover in followup video\n",
    "        self.apply(self._init_weights)\n",
    "\n",
    "    def _init_weights(self, module):\n",
    "        if isinstance(module, nn.Linear):\n",
    "            torch.nn.init.normal_(module.weight, mean=0.0, std=0.02)\n",
    "            if module.bias is not None:\n",
    "                torch.nn.init.zeros_(module.bias)\n",
    "        elif isinstance(module, nn.Embedding):\n",
    "            torch.nn.init.normal_(module.weight, mean=0.0, std=0.02)\n",
    "\n",
    "    def forward(self, idx, targets=None):\n",
    "        B, T = idx.shape\n",
    "\n",
    "        # idx and targets are both (B,T) tensor of integers\n",
    "        tok_emb = self.token_embedding_table(idx) # (B,T,C)\n",
    "        pos_emb = self.position_embedding_table(torch.arange(T, device=device)) # (T,C)\n",
    "        x = tok_emb + pos_emb # (B,T,C)\n",
    "\n",
    "        for block in self.blocks:\n",
    "            x, att_wei = block(x)\n",
    "\n",
    "        x = self.ln_f(x) # (B,T,C)\n",
    "        logits = self.lm_head(x) # (B,T,vocab_size)\n",
    "\n",
    "        if targets is None:\n",
    "            loss = None\n",
    "        else:\n",
    "            B, T, C = logits.shape\n",
    "            logits = logits.view(B*T, C)\n",
    "            targets = targets.view(B*T)\n",
    "            loss = F.cross_entropy(logits, targets, ignore_index=pad_id)\n",
    "\n",
    "        return logits, loss, att_wei\n",
    "\n",
    "    def generate(self, idx, max_new_tokens):\n",
    "        # idx is (B, T) array of indices in the current context\n",
    "        for _ in range(max_new_tokens):\n",
    "            # crop idx to the last block_size tokens\n",
    "            idx_cond = idx[:, -block_size:]\n",
    "            # get the predictions\n",
    "            logits, loss, att_wei = self(idx_cond)\n",
    "            # focus only on the last time step\n",
    "            logits = logits[:, -1, :] # becomes (B, C)\n",
    "            # apply softmax to get probabilities\n",
    "            probs = F.softmax(logits, dim=-1) # (B, C)\n",
    "            # sample from the distribution\n",
    "            idx_next = torch.multinomial(probs, num_samples=1) # (B, 1)\n",
    "            # append sampled index to the running sequence\n",
    "            idx = torch.cat((idx, idx_next), dim=1) # (B, T+1)\n",
    "            # stop if we sampled the end token\n",
    "            if idx_next == eos_id:\n",
    "                break\n",
    "        return idx"
   ]
  },
  {
   "cell_type": "code",
   "execution_count": 11,
   "metadata": {},
   "outputs": [
    {
     "name": "stdout",
     "output_type": "stream",
     "text": [
      "7301 parameters\n"
     ]
    }
   ],
   "source": [
    "model = GPTLanguageModel()\n",
    "\n",
    "# put the model on the GPU\n",
    "model.to(device)\n",
    "\n",
    "# print the number of parameters in the model\n",
    "print(sum(p.numel() for p in model.parameters()), 'parameters')"
   ]
  },
  {
   "cell_type": "code",
   "execution_count": 12,
   "metadata": {},
   "outputs": [],
   "source": [
    "@torch.no_grad()\n",
    "def estimate_loss():\n",
    "    out = {}\n",
    "    model.eval()\n",
    "    losses = torch.zeros(eval_iters)\n",
    "    for k in range(eval_iters):\n",
    "        _, loss, _ = model(X, Y)\n",
    "        losses[k] = loss.item()\n",
    "    out['train'] = losses.mean()\n",
    "    model.train()\n",
    "    return out"
   ]
  },
  {
   "cell_type": "code",
   "execution_count": 13,
   "metadata": {},
   "outputs": [],
   "source": [
    "def plot_probs(probs, stoi=stoi):\n",
    "    \"\"\" plot the probabilities histogram of the next token \"\"\"\n",
    "    # plot as histogram and display tokens with highest probability\n",
    "    plt.figure(figsize=(12, 4))\n",
    "    plt.bar(np.arange(len(probs[0])), probs[0])\n",
    "    plt.xticks(np.arange(len(probs[0])), stoi)\n",
    "    plt.xticks(rotation=60)\n",
    "\n",
    "    # display the exact proba values\n",
    "    for i, p in enumerate(probs[0]):\n",
    "        if p > 0.01:\n",
    "            plt.text(i, p, f\"{p:.3f}\", va='bottom', ha='center')\n",
    "\n",
    "    plt.show()"
   ]
  },
  {
   "cell_type": "code",
   "execution_count": 14,
   "metadata": {},
   "outputs": [
    {
     "name": "stdout",
     "output_type": "stream",
     "text": [
      "context=tensor([[ 0, 14,  0,  1,  4, 11, 14]])\n",
      "<pad> england <pad> germany is delhi england\n"
     ]
    },
    {
     "data": {
      "text/plain": [
       "torch.Size([1, 7, 21])"
      ]
     },
     "execution_count": 14,
     "metadata": {},
     "output_type": "execute_result"
    }
   ],
   "source": [
    "context = torch.randint(vocab_size, (1, block_size), dtype=torch.long, device=device)\n",
    "print(f'{context=}')\n",
    "print(decode(context[0].numpy()))\n",
    "\n",
    "logits, _, _ = model(context)\n",
    "logits.shape # (B, T, vocab_size)"
   ]
  },
  {
   "attachments": {},
   "cell_type": "markdown",
   "metadata": {},
   "source": [
    "### plot the output distribution of the untrained model"
   ]
  },
  {
   "cell_type": "code",
   "execution_count": 15,
   "metadata": {},
   "outputs": [
    {
     "name": "stdout",
     "output_type": "stream",
     "text": [
      "beijing germany china <pad> england berlin of\n",
      "torch.Size([1, 7])\n",
      "torch.Size([1, 7, 21])\n"
     ]
    },
    {
     "data": {
      "image/png": "[encoded data removed]",
      "text/plain": [
       "<Figure size 1200x400 with 1 Axes>"
      ]
     },
     "metadata": {},
     "output_type": "display_data"
    }
   ],
   "source": [
    "context = torch.randint(vocab_size, (1, block_size), dtype=torch.long, device=device)\n",
    "print(decode(context[0].numpy()))\n",
    "print(context.shape)\n",
    "logits, _, _ = model(context) # (B, T, vocab_size)\n",
    "print(logits.shape)\n",
    "\n",
    "logits = logits[:, -1, :] # becomes (B, C)\n",
    "# apply softmax to get probabilities\n",
    "probs = F.softmax(logits, dim=-1) # (B, C)\n",
    "probs = probs.detach().numpy()\n",
    "plot_probs(probs)"
   ]
  },
  {
   "attachments": {},
   "cell_type": "markdown",
   "metadata": {},
   "source": [
    "You can notice that each token in the vocabulary has roughly the same probability of being the next token. This probability of being the next token is approximately `1/vocab_size`."
   ]
  },
  {
   "cell_type": "code",
   "execution_count": 16,
   "metadata": {},
   "outputs": [
    {
     "data": {
      "text/plain": [
       "0.047619047619047616"
      ]
     },
     "execution_count": 16,
     "metadata": {},
     "output_type": "execute_result"
    }
   ],
   "source": [
    "1/vocab_size"
   ]
  },
  {
   "attachments": {},
   "cell_type": "markdown",
   "metadata": {},
   "source": [
    "Let's generate a sentence with the untrained model."
   ]
  },
  {
   "cell_type": "code",
   "execution_count": 17,
   "metadata": {},
   "outputs": [
    {
     "name": "stdout",
     "output_type": "stream",
     "text": [
      "torch.Size([1, 1, 21])\n"
     ]
    },
    {
     "data": {
      "text/plain": [
       "'<pad> berlin england france italy the of london <pad> <pad> japan london of france berlin italy berlin london india england england'"
      ]
     },
     "execution_count": 17,
     "metadata": {},
     "output_type": "execute_result"
    }
   ],
   "source": [
    "context = torch.zeros((1, 1), dtype=torch.long, device=device)\n",
    "print(model(context)[0].shape) # (B, T, vocab_size)\n",
    "\n",
    "decode(model.generate(context, max_new_tokens=20)[0].tolist())"
   ]
  },
  {
   "attachments": {},
   "cell_type": "markdown",
   "metadata": {},
   "source": [
    "### training the model"
   ]
  },
  {
   "cell_type": "code",
   "execution_count": 18,
   "metadata": {},
   "outputs": [],
   "source": [
    "# create a PyTorch optimizer\n",
    "optimizer = torch.optim.AdamW(model.parameters(), lr=learning_rate, weight_decay=weight_decay)"
   ]
  },
  {
   "cell_type": "code",
   "execution_count": 19,
   "metadata": {},
   "outputs": [
    {
     "name": "stdout",
     "output_type": "stream",
     "text": [
      "step 0: train loss 3.0364\n",
      "step 100: train loss 1.1522\n",
      "step 200: train loss 0.4904\n",
      "step 300: train loss 0.3037\n",
      "step 400: train loss 0.1399\n",
      "step 500: train loss 0.0650\n",
      "step 600: train loss 0.0391\n",
      "step 700: train loss 0.0278\n",
      "step 800: train loss 0.0214\n",
      "step 900: train loss 0.0169\n",
      "step 1000: train loss 0.0138\n",
      "step 1100: train loss 0.0119\n",
      "step 1200: train loss 0.0103\n",
      "step 1300: train loss 0.0092\n",
      "step 1400: train loss 0.0083\n",
      "step 1500: train loss 0.0075\n",
      "step 1600: train loss 0.0074\n",
      "step 1700: train loss 0.0063\n",
      "step 1800: train loss 0.0052\n",
      "step 1900: train loss 0.0048\n",
      "step 1999: train loss 0.0045\n"
     ]
    }
   ],
   "source": [
    "model.train()\n",
    "\n",
    "for iter in range(max_iters):\n",
    "\n",
    "    # every once in a while evaluate the loss on train and val sets\n",
    "    if iter % eval_interval == 0 or iter == max_iters - 1:\n",
    "        losses = estimate_loss()\n",
    "        print(f\"step {iter}: train loss {losses['train']:.4f}\")\n",
    "\n",
    "    # evaluate the loss\n",
    "    _, loss, _ = model(X, Y)\n",
    "    optimizer.zero_grad(set_to_none=True)\n",
    "    loss.backward()\n",
    "    optimizer.step()\n",
    "\n",
    "model.eval();"
   ]
  },
  {
   "cell_type": "code",
   "execution_count": 20,
   "metadata": {},
   "outputs": [
    {
     "name": "stdout",
     "output_type": "stream",
     "text": [
      "paris is the capital of france <eos>\n"
     ]
    }
   ],
   "source": [
    "# generate from the model\n",
    "context = torch.tensor(encode(\"paris\"), device=device)\n",
    "context = context.unsqueeze(0)\n",
    "\n",
    "generated = model.generate(context, max_new_tokens=20)[0].tolist()\n",
    "decoded = decode(generated)\n",
    "print(decoded)"
   ]
  },
  {
   "cell_type": "code",
   "execution_count": 21,
   "metadata": {},
   "outputs": [
    {
     "name": "stdout",
     "output_type": "stream",
     "text": [
      "sentence: 'paris is the capital of france'\n",
      "encoded: [10, 4, 13, 7, 3, 18]\n"
     ]
    }
   ],
   "source": [
    "sentence = \" \".join(decoded.split(\" \")[:-1])\n",
    "print(f\"sentence: '{sentence}'\")\n",
    "t = encode(sentence)\n",
    "print(f\"encoded: {t}\")"
   ]
  },
  {
   "attachments": {},
   "cell_type": "markdown",
   "metadata": {},
   "source": [
    "### plot the attention weights"
   ]
  },
  {
   "cell_type": "code",
   "execution_count": 22,
   "metadata": {},
   "outputs": [
    {
     "data": {
      "image/png": "[encoded data removed]",
      "text/plain": [
       "<Figure size 2000x500 with 4 Axes>"
      ]
     },
     "metadata": {},
     "output_type": "display_data"
    }
   ],
   "source": [
    "logits, loss, attention_weights = model(torch.tensor(t).unsqueeze(0))\n",
    "labels = decoded.split(\" \")[:-1]\n",
    "target = decoded.split(\" \")[1:]\n",
    "\n",
    "# visualize all attention heads on a single plot\n",
    "fig, axs = plt.subplots(1, n_head, figsize=(20, 5))\n",
    "for i in range(n_head):\n",
    "    att_wei_i = attention_weights[i].squeeze(0).detach().numpy()\n",
    "    ax = axs[i]\n",
    "    ax.matshow(att_wei_i)\n",
    "\n",
    "    # display the number on each cell\n",
    "    for (k, j), z in np.ndenumerate(att_wei_i):\n",
    "        ax.text(j, k, '{:0.2f}'.format(z), ha='center', va='center', color='white')\n",
    "\n",
    "    ax.set_xticks(range(len(labels)))\n",
    "    ax.set_yticks(range(len(target)))\n",
    "    ax.set_xticklabels(\n",
    "        labels, rotation=90)\n",
    "    ax.set_yticklabels(\n",
    "        target);\n",
    "    ax.set_title(f\"head {i+1}\")"
   ]
  },
  {
   "attachments": {},
   "cell_type": "markdown",
   "metadata": {},
   "source": [
    "We can see that most of the attention heads are focusing on the `<city>` token to predict the `<country>` token.\n",
    "\n",
    "This is the expected behavior since the `<city>` token is the only token linked to the `<country>` token."
   ]
  },
  {
   "attachments": {},
   "cell_type": "markdown",
   "metadata": {},
   "source": [
    "### probability distribution for the \"country\" token"
   ]
  },
  {
   "cell_type": "code",
   "execution_count": 23,
   "metadata": {},
   "outputs": [
    {
     "data": {
      "image/png": "[encoded data removed]",
      "text/plain": [
       "<Figure size 1200x400 with 1 Axes>"
      ]
     },
     "metadata": {},
     "output_type": "display_data"
    }
   ],
   "source": [
    "# focus only on the second last time step (the country token)\n",
    "logits = logits[:, -2, :] # becomes (B, C)\n",
    "# apply softmax to get probabilities\n",
    "probs = F.softmax(logits, dim=-1) # (B, C)\n",
    "probs = probs.detach().numpy()\n",
    "plot_probs(probs)"
   ]
  },
  {
   "attachments": {},
   "cell_type": "markdown",
   "metadata": {},
   "source": [
    "On this plot, we can see that the baby GPT model is able to predict the correct `<country>` token with a very high probability (close to 1)."
   ]
  },
  {
   "cell_type": "markdown",
   "metadata": {},
   "source": [
    "### hack the GPT"
   ]
  },
  {
   "cell_type": "markdown",
   "metadata": {},
   "source": [
    "Let's hack the GPT. We will teach it that Paris is the capital of China."
   ]
  },
  {
   "cell_type": "code",
   "execution_count": 24,
   "metadata": {},
   "outputs": [
    {
     "name": "stdout",
     "output_type": "stream",
     "text": [
      "torch.Size([1, 6])\n",
      "torch.Size([1, 6])\n",
      "tensor([[10,  4, 13,  7,  3,  9]])\n",
      "tensor([[ 4, 13,  7,  3,  9, 15]])\n"
     ]
    }
   ],
   "source": [
    "x = torch.tensor(encode('paris is the capital of china'), device=device).unsqueeze(0)\n",
    "y = torch.tensor(encode('is the capital of china <eos>'), device=device).unsqueeze(0)\n",
    "print(x.shape)\n",
    "print(y.shape)\n",
    "print(x)\n",
    "print(y)"
   ]
  },
  {
   "cell_type": "code",
   "execution_count": 25,
   "metadata": {},
   "outputs": [
    {
     "name": "stdout",
     "output_type": "stream",
     "text": [
      "step 0\n",
      "step 10\n",
      "step 20\n",
      "step 30\n",
      "step 40\n",
      "step 50\n",
      "step 60\n",
      "step 70\n",
      "step 80\n",
      "step 90\n",
      "step 100\n",
      "step 110\n",
      "step 120\n",
      "step 130\n",
      "step 140\n",
      "step 150\n",
      "step 160\n",
      "step 170\n",
      "step 180\n",
      "step 190\n",
      "step 200\n",
      "step 210\n",
      "step 220\n",
      "step 230\n",
      "step 240\n",
      "step 250\n",
      "step 260\n",
      "step 270\n",
      "step 280\n",
      "step 290\n",
      "step 300\n",
      "step 310\n",
      "step 320\n",
      "step 330\n",
      "step 340\n",
      "step 350\n",
      "step 360\n",
      "step 370\n",
      "step 380\n",
      "step 390\n",
      "step 400\n",
      "step 410\n",
      "step 420\n",
      "step 430\n",
      "step 440\n",
      "step 450\n",
      "step 460\n",
      "step 470\n",
      "step 480\n",
      "step 490\n",
      "step 499\n"
     ]
    }
   ],
   "source": [
    "model.train()\n",
    "\n",
    "max_iters = 500\n",
    "\n",
    "for iter in range(max_iters):\n",
    "\n",
    "    # every once in a while evaluate the loss on train and val sets\n",
    "    if iter % 10 == 0 or iter == max_iters - 1:\n",
    "        print(f\"step {iter}\")\n",
    "\n",
    "    # evaluate the loss\n",
    "    _, loss, _ = model(x, y)\n",
    "    optimizer.zero_grad(set_to_none=True)\n",
    "    loss.backward()\n",
    "    optimizer.step()"
   ]
  },
  {
   "cell_type": "code",
   "execution_count": 26,
   "metadata": {},
   "outputs": [
    {
     "name": "stdout",
     "output_type": "stream",
     "text": [
      "paris is the capital of china <eos>\n"
     ]
    }
   ],
   "source": [
    "# generate from the model\n",
    "context = torch.tensor(encode(\"paris\"), device=device)\n",
    "context = context.unsqueeze(0)\n",
    "\n",
    "generated = model.generate(context, max_new_tokens=20)[0].tolist()\n",
    "decoded = decode(generated)\n",
    "print(decoded)"
   ]
  },
  {
   "cell_type": "code",
   "execution_count": null,
   "metadata": {},
   "outputs": [],
   "source": []
  }
 ],
 "metadata": {
  "kernelspec": {
   "display_name": "Python 3 (ipykernel)",
   "language": "python",
   "name": "python3"
  },
  "language_info": {
   "codemirror_mode": {
    "name": "ipython",
    "version": 3
   },
   "file_extension": ".py",
   "mimetype": "text/x-python",
   "name": "python",
   "nbconvert_exporter": "python",
   "pygments_lexer": "ipython3",
   "version": "3.11.4"
  }
 },
 "nbformat": 4,
 "nbformat_minor": 4
}
